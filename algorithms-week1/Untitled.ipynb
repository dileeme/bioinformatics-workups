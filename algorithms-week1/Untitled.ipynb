{
 "cells": [
  {
   "cell_type": "code",
   "execution_count": 10,
   "id": "53dba887",
   "metadata": {},
   "outputs": [],
   "source": [
    "def dna_match(sequence):\n",
    "    complement = {'A': 'T','T': 'A','C': 'G','G': 'C'}\n",
    "    complementary_strand = ''.join([complement[nucleotide] for nucleotide in sequence])\n",
    "    return complementary_strand"
   ]
  },
  {
   "cell_type": "code",
   "execution_count": 11,
   "id": "839345e6",
   "metadata": {},
   "outputs": [
    {
     "name": "stdout",
     "output_type": "stream",
     "text": [
      "TACTACGACTAGCATCACGACTCCCCGCCTACGATCATC\n"
     ]
    }
   ],
   "source": [
    "sequence = 'ATGATGCTGATCGTAGTGCTGAGGGGCGGATGCTAGTAG'\n",
    "print(dna_match(sequence))"
   ]
  },
  {
   "cell_type": "code",
   "execution_count": 7,
   "id": "542a321d",
   "metadata": {},
   "outputs": [
    {
     "name": "stdout",
     "output_type": "stream",
     "text": [
      "Original DNA sequence: ATCG\n",
      "Complementary DNA strand: TAGC\n"
     ]
    }
   ],
   "source": [
    "def dna_complement(dna_sequence):\n",
    "    # Create a dictionary to map each nucleotide to its complement\n",
    "    complement = {'A': 'T', 'T': 'A', 'C': 'G', 'G': 'C'}\n",
    "    \n",
    "    # Use a list comprehension to generate the complementary strand\n",
    "    complementary_strand = ''.join([complement[nucleotide] for nucleotide in dna_sequence])\n",
    "    \n",
    "    return complementary_strand\n",
    "\n",
    "# Example usage\n",
    "dna_sequence = \"ATCG\"\n",
    "complementary_strand = dna_complement(dna_sequence)\n",
    "print(f\"Original DNA sequence: {dna_sequence}\")\n",
    "print(f\"Complementary DNA strand: {complementary_strand}\")\n"
   ]
  },
  {
   "cell_type": "code",
   "execution_count": 12,
   "id": "b1572231",
   "metadata": {},
   "outputs": [
    {
     "name": "stdout",
     "output_type": "stream",
     "text": [
      "TAAATCCGATCGAATCCGAATAAAGCCCTATATACGCTAAAGCTAGAATAAGCTCCCTA\n",
      "ILGFDSISL**??MWSS\n"
     ]
    }
   ],
   "source": [
    "def dna_complement(dna):\n",
    "    complement_map = {'A': 'T', 'T': 'A', 'C':'G','G':'C'} \n",
    "    complement = ''.join(complement_map[base] for base in dna) \n",
    "    return complement\n",
    "\n",
    "dna_sequence = \"ATTTAGGCTAGCTTAGGCTTATTTCGGGATATATGCGATTTCGATCTTATTCGAGGGAT\" \n",
    "print(dna_complement(dna_sequence))\n",
    "\n",
    "def dna_translate(dna):\n",
    "    codon_table = {\n",
    "        \"ATA\": \"I\", \"ATC\": \"I\", \"ATT\": \"I\", \"ATG\": \"M\",\n",
    "        \"ACA\": \"T\", \"ACC\": \"T\", \"ACG\": \"T\", \"ACT\": \"T\",\n",
    "        \"AAC\": \"N\", \"AAT\": \"N\", \"AAA\": \"K\", \"AAG\": \"K\",\n",
    "        \"AGC\": \"S\", \"AGT\": \"S\", \"AGA\": \"R\", \"AGG\": \"R\",\n",
    "        \"CTA\": \"L\", \"CTC\": \"L\", \"CTG\": \"L\", \"CTT\": \"L\",\n",
    "        \"CCA\": \"P\", \"CCC\": \"P\", \"CCG\": \"P\", \"CCT\": \"P\",\n",
    "        \"CAC\": \"H\", \"CAT\": \"H\", \"CAA\": \"Q\", \"CAG\": \"Q\",\n",
    "        \"CGA\": \"R\", \"CGC\": \"R\", \"CGG\": \"R\", \"CGT\": \"R\",\n",
    "        \"GTA\": \"V\", \"GTC\": \"V\", \"GTG\": \"V\", \"GTT\": \"V\",\n",
    "        \"GCA\": \"A\", \"GCC\": \"A\", \"GCG\": \"A\", \"GCT\": \"A\",\n",
    "        \"GAC\": \"D\", \"GAT\": \"D\", \"GAA\": \"E\", \"GAG\": \"E\",\n",
    "        \"GGA\": \"G\", \"GGC\": \"G\", \"GGG\": \"G\", \"GGT\": \"G\",\n",
    "        \"TCA\": \"S\", \"TCC\": \"S\", \"TCG\": \"S\", \"TCT\": \"S\",\n",
    "        \"TTC\": \"F\", \"TTT\": \"F\", \"TTA\": \"L\", \"TTG\": \"L\",\n",
    "        \"TAC\": \"Y\", \"TAT\": \"Y\", \"TAA\": \"*\", \"TAG\": \"*\",\n",
    "        \"TGC\": \"C\", \"TGT\": \"C\", \"TGA\": \"*\", \"TGG\": \"W\"\n",
    "    } \n",
    "\n",
    "    protein = \"\"\n",
    "    for i in range(0,len(dna) - len(dna)%3, 3):\n",
    "        codon = dna[i:i+3]\n",
    "        protein += codon_table.get(codon, \"?\")\n",
    "\n",
    "    return protein\n",
    "\n",
    "dna_sequence = \"ATACTCGGATTCGATTCTATATCGTTATGATGAUUGTUGATGTGGTCTTCT\" \n",
    "print(dna_translate(dna_sequence))"
   ]
  },
  {
   "cell_type": "code",
   "execution_count": null,
   "id": "a6549943",
   "metadata": {},
   "outputs": [],
   "source": []
  }
 ],
 "metadata": {
  "kernelspec": {
   "display_name": "Python 3 (ipykernel)",
   "language": "python",
   "name": "python3"
  },
  "language_info": {
   "codemirror_mode": {
    "name": "ipython",
    "version": 3
   },
   "file_extension": ".py",
   "mimetype": "text/x-python",
   "name": "python",
   "nbconvert_exporter": "python",
   "pygments_lexer": "ipython3",
   "version": "3.10.9"
  }
 },
 "nbformat": 4,
 "nbformat_minor": 5
}
