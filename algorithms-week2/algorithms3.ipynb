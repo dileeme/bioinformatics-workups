{
  "nbformat": 4,
  "nbformat_minor": 0,
  "metadata": {
    "colab": {
      "provenance": []
    },
    "kernelspec": {
      "name": "python3",
      "display_name": "Python 3"
    },
    "language_info": {
      "name": "python"
    }
  },
  "cells": [
    {
      "cell_type": "code",
      "execution_count": 10,
      "metadata": {
        "id": "fjU8DspU3IW1"
      },
      "outputs": [],
      "source": [
        "def hidden_path_probability(path, states, transition_matrix):\n",
        "  n = len(states)\n",
        "  state_index = {states[i]: i for i in range(n)}\n",
        "  initial_prob = 1/n\n",
        "  prob = initial_prob\n",
        "\n",
        "  for i in range(1,len(path)):\n",
        "    prev_state = path[1 - i]\n",
        "    current_state = path[i]\n",
        "    prob *= transition_matrix[state_index[prev_state]][state_index[current_state]]\n",
        "\n",
        "  return prob"
      ]
    },
    {
      "cell_type": "code",
      "source": [
        "path = \"AABBAABABAAAABBBBBAABBAABBAABBAAABBAABBABABBAB\"\n",
        "states = [\"A\",\"B\"]\n",
        "\n",
        "transition_matrix = [\n",
        "    [0.194, 0.806],\n",
        "     [0.273, 0.727]\n",
        "]\n",
        "\n",
        "print(f\"Given path is: {path}\")\n",
        "print(f\"States are {states}\")\n",
        "print(f\"Transition matrix is {transition_matrix}\")\n"
      ],
      "metadata": {
        "colab": {
          "base_uri": "https://localhost:8080/"
        },
        "id": "dvzldCKW3zmO",
        "outputId": "81fa0bdd-ba27-41b6-fa1f-6a46e8dbc530"
      },
      "execution_count": 16,
      "outputs": [
        {
          "output_type": "stream",
          "name": "stdout",
          "text": [
            "Given path is: AABBAABABAAAABBBBBAABBAABBAABBAAABBAABBABABBAB\n",
            "States are ['A', 'B']\n",
            "Transition matrix is [[0.194, 0.806], [0.273, 0.727]]\n"
          ]
        }
      ]
    },
    {
      "cell_type": "code",
      "source": [
        "result = hidden_path_probability(path, states, transition_matrix)\n",
        "print(result)"
      ],
      "metadata": {
        "colab": {
          "base_uri": "https://localhost:8080/"
        },
        "id": "SHwHUdYH4v0p",
        "outputId": "1a0bd28e-dba2-4bf9-b9d7-377389e6f915"
      },
      "execution_count": 14,
      "outputs": [
        {
          "output_type": "stream",
          "name": "stdout",
          "text": [
            "1.347863241463778e-16\n"
          ]
        }
      ]
    },
    {
      "cell_type": "code",
      "source": [],
      "metadata": {
        "id": "E51Nq1jn6LuL"
      },
      "execution_count": null,
      "outputs": []
    }
  ]
}