{
 "cells": [
  {
   "cell_type": "code",
   "execution_count": 1,
   "id": "734b4fb5-1de5-41f9-bc64-c974c1f9db04",
   "metadata": {},
   "outputs": [],
   "source": [
    "def printArray(array):\n",
    "    for i in array:\n",
    "        print(array + \" \" + i) "
   ]
  },
  {
   "cell_type": "code",
   "execution_count": 2,
   "id": "a7369bc0-ff33-4919-99f3-df05d4af08a1",
   "metadata": {},
   "outputs": [],
   "source": [
    "array = [10,20,30,40,50] "
   ]
  },
  {
   "cell_type": "code",
   "execution_count": 3,
   "id": "e9d2a5c3-8b7e-4aed-9359-5a03f502f60a",
   "metadata": {},
   "outputs": [
    {
     "ename": "TypeError",
     "evalue": "can only concatenate list (not \"str\") to list",
     "output_type": "error",
     "traceback": [
      "\u001b[31m---------------------------------------------------------------------------\u001b[39m",
      "\u001b[31mTypeError\u001b[39m                                 Traceback (most recent call last)",
      "\u001b[36mCell\u001b[39m\u001b[36m \u001b[39m\u001b[32mIn[3]\u001b[39m\u001b[32m, line 1\u001b[39m\n\u001b[32m----> \u001b[39m\u001b[32m1\u001b[39m \u001b[43mprintArray\u001b[49m\u001b[43m(\u001b[49m\u001b[43marray\u001b[49m\u001b[43m)\u001b[49m\n",
      "\u001b[36mCell\u001b[39m\u001b[36m \u001b[39m\u001b[32mIn[1]\u001b[39m\u001b[32m, line 3\u001b[39m, in \u001b[36mprintArray\u001b[39m\u001b[34m(array)\u001b[39m\n\u001b[32m      1\u001b[39m \u001b[38;5;28;01mdef\u001b[39;00m\u001b[38;5;250m \u001b[39m\u001b[34mprintArray\u001b[39m(array):\n\u001b[32m      2\u001b[39m     \u001b[38;5;28;01mfor\u001b[39;00m i \u001b[38;5;129;01min\u001b[39;00m array:\n\u001b[32m----> \u001b[39m\u001b[32m3\u001b[39m         \u001b[38;5;28mprint\u001b[39m(\u001b[43marray\u001b[49m\u001b[43m \u001b[49m\u001b[43m+\u001b[49m\u001b[43m \u001b[49m\u001b[33;43m\"\u001b[39;49m\u001b[33;43m \u001b[39;49m\u001b[33;43m\"\u001b[39;49m + i)\n",
      "\u001b[31mTypeError\u001b[39m: can only concatenate list (not \"str\") to list"
     ]
    }
   ],
   "source": [
    "printArray(array)"
   ]
  },
  {
   "cell_type": "code",
   "execution_count": 4,
   "id": "4c562bea-c312-45a0-aa1b-547885cd6138",
   "metadata": {},
   "outputs": [],
   "source": [
    "def enumerateArrray(array):\n",
    "    for index, value in enumerate(array):\n",
    "        print(f\"{index}: {value}\")"
   ]
  },
  {
   "cell_type": "code",
   "execution_count": 5,
   "id": "a0e11d2e-c2e4-4ad1-aecc-98ed872f4ee0",
   "metadata": {},
   "outputs": [
    {
     "name": "stdout",
     "output_type": "stream",
     "text": [
      "0: apple\n",
      "1: bananas\n",
      "2: oranges\n"
     ]
    }
   ],
   "source": [
    "array = [\"apple\",\"bananas\",\"oranges\"]\n",
    "\n",
    "enumerateArrray(array)"
   ]
  },
  {
   "cell_type": "code",
   "execution_count": 8,
   "id": "3df54635-43b1-4d74-9b54-85a102088eb4",
   "metadata": {},
   "outputs": [],
   "source": [
    "def dna_complement(dna):\n",
    "    complement_map = {'A': 'T', 'T': 'A', 'C':'G','G':'C'} \n",
    "    complement = ''.join(complement_map[base] for base in dna) \n",
    "    return complement"
   ]
  },
  {
   "cell_type": "code",
   "execution_count": 9,
   "id": "4af3fb1f-441c-41fa-b7dc-181691663f08",
   "metadata": {},
   "outputs": [
    {
     "name": "stdout",
     "output_type": "stream",
     "text": [
      "TAAATCCGATCGAATCCGAATAAAGCCCTATATACGCTAAAGCTAGAATAAGCTCCCTA\n"
     ]
    }
   ],
   "source": [
    "dna_sequence = \"ATTTAGGCTAGCTTAGGCTTATTTCGGGATATATGCGATTTCGATCTTATTCGAGGGAT\" \n",
    "print(dna_complement(dna_sequence))"
   ]
  },
  {
   "cell_type": "code",
   "execution_count": 10,
   "id": "9936dfbb-04ca-45ca-8eb7-f8f29412b720",
   "metadata": {},
   "outputs": [],
   "source": [
    "def dna_translate(dna):\n",
    "    codon_table = {\n",
    "        \"ATA\": \"I\", \"ATC\": \"I\", \"ATT\": \"I\", \"ATG\": \"M\",\n",
    "        \"ACA\": \"T\", \"ACC\": \"T\", \"ACG\": \"T\", \"ACT\": \"T\",\n",
    "        \"AAC\": \"N\", \"AAT\": \"N\", \"AAA\": \"K\", \"AAG\": \"K\",\n",
    "        \"AGC\": \"S\", \"AGT\": \"S\", \"AGA\": \"R\", \"AGG\": \"R\",\n",
    "        \"CTA\": \"L\", \"CTC\": \"L\", \"CTG\": \"L\", \"CTT\": \"L\",\n",
    "        \"CCA\": \"P\", \"CCC\": \"P\", \"CCG\": \"P\", \"CCT\": \"P\",\n",
    "        \"CAC\": \"H\", \"CAT\": \"H\", \"CAA\": \"Q\", \"CAG\": \"Q\",\n",
    "        \"CGA\": \"R\", \"CGC\": \"R\", \"CGG\": \"R\", \"CGT\": \"R\",\n",
    "        \"GTA\": \"V\", \"GTC\": \"V\", \"GTG\": \"V\", \"GTT\": \"V\",\n",
    "        \"GCA\": \"A\", \"GCC\": \"A\", \"GCG\": \"A\", \"GCT\": \"A\",\n",
    "        \"GAC\": \"D\", \"GAT\": \"D\", \"GAA\": \"E\", \"GAG\": \"E\",\n",
    "        \"GGA\": \"G\", \"GGC\": \"G\", \"GGG\": \"G\", \"GGT\": \"G\",\n",
    "        \"TCA\": \"S\", \"TCC\": \"S\", \"TCG\": \"S\", \"TCT\": \"S\",\n",
    "        \"TTC\": \"F\", \"TTT\": \"F\", \"TTA\": \"L\", \"TTG\": \"L\",\n",
    "        \"TAC\": \"Y\", \"TAT\": \"Y\", \"TAA\": \"*\", \"TAG\": \"*\",\n",
    "        \"TGC\": \"C\", \"TGT\": \"C\", \"TGA\": \"*\", \"TGG\": \"W\"\n",
    "    } "
   ]
  },
  {
   "cell_type": "code",
   "execution_count": 11,
   "id": "650623e4-742e-4d4d-8ba9-de093033cd73",
   "metadata": {},
   "outputs": [
    {
     "ename": "SyntaxError",
     "evalue": "'return' outside function (2675626917.py, line 5)",
     "output_type": "error",
     "traceback": [
      "  \u001b[36mCell\u001b[39m\u001b[36m \u001b[39m\u001b[32mIn[11]\u001b[39m\u001b[32m, line 5\u001b[39m\n\u001b[31m    \u001b[39m\u001b[31mreturn protein\u001b[39m\n    ^\n\u001b[31mSyntaxError\u001b[39m\u001b[31m:\u001b[39m 'return' outside function\n"
     ]
    }
   ],
   "source": [
    "for i in range(0,len(dna) - len(dna)%3, 3):\n",
    "    codon = dna[i:i+3]\n",
    "    protein += codon_table.get(codon, \"?\")\n",
    "\n",
    "    return protein"
   ]
  },
  {
   "cell_type": "code",
   "execution_count": null,
   "id": "65fd7f2e-816c-485d-b7d3-a62ddba26859",
   "metadata": {},
   "outputs": [],
   "source": []
  }
 ],
 "metadata": {
  "kernelspec": {
   "display_name": "Python 3 (ipykernel)",
   "language": "python",
   "name": "python3"
  },
  "language_info": {
   "codemirror_mode": {
    "name": "ipython",
    "version": 3
   },
   "file_extension": ".py",
   "mimetype": "text/x-python",
   "name": "python",
   "nbconvert_exporter": "python",
   "pygments_lexer": "ipython3",
   "version": "3.13.1"
  }
 },
 "nbformat": 4,
 "nbformat_minor": 5
}
